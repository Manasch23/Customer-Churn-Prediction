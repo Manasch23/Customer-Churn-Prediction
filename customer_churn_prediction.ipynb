{
 "cells": [
  {
   "cell_type": "code",
   "execution_count": 241,
   "metadata": {},
   "outputs": [],
   "source": [
    "import pandas as pd\n",
    "import numpy as np"
   ]
  },
  {
   "cell_type": "code",
   "execution_count": 242,
   "metadata": {},
   "outputs": [],
   "source": [
    "df = pd.read_csv('Churn_Modelling.csv')"
   ]
  },
  {
   "cell_type": "code",
   "execution_count": 243,
   "metadata": {},
   "outputs": [
    {
     "data": {
      "text/html": [
       "<div>\n",
       "<style scoped>\n",
       "    .dataframe tbody tr th:only-of-type {\n",
       "        vertical-align: middle;\n",
       "    }\n",
       "\n",
       "    .dataframe tbody tr th {\n",
       "        vertical-align: top;\n",
       "    }\n",
       "\n",
       "    .dataframe thead th {\n",
       "        text-align: right;\n",
       "    }\n",
       "</style>\n",
       "<table border=\"1\" class=\"dataframe\">\n",
       "  <thead>\n",
       "    <tr style=\"text-align: right;\">\n",
       "      <th></th>\n",
       "      <th>RowNumber</th>\n",
       "      <th>CustomerId</th>\n",
       "      <th>Surname</th>\n",
       "      <th>CreditScore</th>\n",
       "      <th>Geography</th>\n",
       "      <th>Gender</th>\n",
       "      <th>Age</th>\n",
       "      <th>Tenure</th>\n",
       "      <th>Balance</th>\n",
       "      <th>NumOfProducts</th>\n",
       "      <th>HasCrCard</th>\n",
       "      <th>IsActiveMember</th>\n",
       "      <th>EstimatedSalary</th>\n",
       "      <th>Exited</th>\n",
       "    </tr>\n",
       "  </thead>\n",
       "  <tbody>\n",
       "    <tr>\n",
       "      <th>0</th>\n",
       "      <td>1</td>\n",
       "      <td>15634602</td>\n",
       "      <td>Hargrave</td>\n",
       "      <td>619</td>\n",
       "      <td>France</td>\n",
       "      <td>Female</td>\n",
       "      <td>42</td>\n",
       "      <td>2</td>\n",
       "      <td>0.00</td>\n",
       "      <td>1</td>\n",
       "      <td>1</td>\n",
       "      <td>1</td>\n",
       "      <td>101348.88</td>\n",
       "      <td>1</td>\n",
       "    </tr>\n",
       "    <tr>\n",
       "      <th>1</th>\n",
       "      <td>2</td>\n",
       "      <td>15647311</td>\n",
       "      <td>Hill</td>\n",
       "      <td>608</td>\n",
       "      <td>Spain</td>\n",
       "      <td>Female</td>\n",
       "      <td>41</td>\n",
       "      <td>1</td>\n",
       "      <td>83807.86</td>\n",
       "      <td>1</td>\n",
       "      <td>0</td>\n",
       "      <td>1</td>\n",
       "      <td>112542.58</td>\n",
       "      <td>0</td>\n",
       "    </tr>\n",
       "    <tr>\n",
       "      <th>2</th>\n",
       "      <td>3</td>\n",
       "      <td>15619304</td>\n",
       "      <td>Onio</td>\n",
       "      <td>502</td>\n",
       "      <td>France</td>\n",
       "      <td>Female</td>\n",
       "      <td>42</td>\n",
       "      <td>8</td>\n",
       "      <td>159660.80</td>\n",
       "      <td>3</td>\n",
       "      <td>1</td>\n",
       "      <td>0</td>\n",
       "      <td>113931.57</td>\n",
       "      <td>1</td>\n",
       "    </tr>\n",
       "    <tr>\n",
       "      <th>3</th>\n",
       "      <td>4</td>\n",
       "      <td>15701354</td>\n",
       "      <td>Boni</td>\n",
       "      <td>699</td>\n",
       "      <td>France</td>\n",
       "      <td>Female</td>\n",
       "      <td>39</td>\n",
       "      <td>1</td>\n",
       "      <td>0.00</td>\n",
       "      <td>2</td>\n",
       "      <td>0</td>\n",
       "      <td>0</td>\n",
       "      <td>93826.63</td>\n",
       "      <td>0</td>\n",
       "    </tr>\n",
       "    <tr>\n",
       "      <th>4</th>\n",
       "      <td>5</td>\n",
       "      <td>15737888</td>\n",
       "      <td>Mitchell</td>\n",
       "      <td>850</td>\n",
       "      <td>Spain</td>\n",
       "      <td>Female</td>\n",
       "      <td>43</td>\n",
       "      <td>2</td>\n",
       "      <td>125510.82</td>\n",
       "      <td>1</td>\n",
       "      <td>1</td>\n",
       "      <td>1</td>\n",
       "      <td>79084.10</td>\n",
       "      <td>0</td>\n",
       "    </tr>\n",
       "  </tbody>\n",
       "</table>\n",
       "</div>"
      ],
      "text/plain": [
       "   RowNumber  CustomerId   Surname  CreditScore Geography  Gender  Age  \\\n",
       "0          1    15634602  Hargrave          619    France  Female   42   \n",
       "1          2    15647311      Hill          608     Spain  Female   41   \n",
       "2          3    15619304      Onio          502    France  Female   42   \n",
       "3          4    15701354      Boni          699    France  Female   39   \n",
       "4          5    15737888  Mitchell          850     Spain  Female   43   \n",
       "\n",
       "   Tenure    Balance  NumOfProducts  HasCrCard  IsActiveMember  \\\n",
       "0       2       0.00              1          1               1   \n",
       "1       1   83807.86              1          0               1   \n",
       "2       8  159660.80              3          1               0   \n",
       "3       1       0.00              2          0               0   \n",
       "4       2  125510.82              1          1               1   \n",
       "\n",
       "   EstimatedSalary  Exited  \n",
       "0        101348.88       1  \n",
       "1        112542.58       0  \n",
       "2        113931.57       1  \n",
       "3         93826.63       0  \n",
       "4         79084.10       0  "
      ]
     },
     "execution_count": 243,
     "metadata": {},
     "output_type": "execute_result"
    }
   ],
   "source": [
    "df.head()"
   ]
  },
  {
   "cell_type": "code",
   "execution_count": 244,
   "metadata": {},
   "outputs": [
    {
     "data": {
      "text/plain": [
       "(10000, 14)"
      ]
     },
     "execution_count": 244,
     "metadata": {},
     "output_type": "execute_result"
    }
   ],
   "source": [
    "df.shape"
   ]
  },
  {
   "cell_type": "code",
   "execution_count": 245,
   "metadata": {},
   "outputs": [
    {
     "name": "stdout",
     "output_type": "stream",
     "text": [
      "<class 'pandas.core.frame.DataFrame'>\n",
      "RangeIndex: 10000 entries, 0 to 9999\n",
      "Data columns (total 14 columns):\n",
      " #   Column           Non-Null Count  Dtype  \n",
      "---  ------           --------------  -----  \n",
      " 0   RowNumber        10000 non-null  int64  \n",
      " 1   CustomerId       10000 non-null  int64  \n",
      " 2   Surname          10000 non-null  object \n",
      " 3   CreditScore      10000 non-null  int64  \n",
      " 4   Geography        10000 non-null  object \n",
      " 5   Gender           10000 non-null  object \n",
      " 6   Age              10000 non-null  int64  \n",
      " 7   Tenure           10000 non-null  int64  \n",
      " 8   Balance          10000 non-null  float64\n",
      " 9   NumOfProducts    10000 non-null  int64  \n",
      " 10  HasCrCard        10000 non-null  int64  \n",
      " 11  IsActiveMember   10000 non-null  int64  \n",
      " 12  EstimatedSalary  10000 non-null  float64\n",
      " 13  Exited           10000 non-null  int64  \n",
      "dtypes: float64(2), int64(9), object(3)\n",
      "memory usage: 1.1+ MB\n"
     ]
    }
   ],
   "source": [
    "df.info()"
   ]
  },
  {
   "cell_type": "code",
   "execution_count": 246,
   "metadata": {},
   "outputs": [
    {
     "data": {
      "text/plain": [
       "0"
      ]
     },
     "execution_count": 246,
     "metadata": {},
     "output_type": "execute_result"
    }
   ],
   "source": [
    "df.duplicated().sum()"
   ]
  },
  {
   "cell_type": "code",
   "execution_count": 247,
   "metadata": {},
   "outputs": [
    {
     "data": {
      "text/plain": [
       "Exited\n",
       "0    7963\n",
       "1    2037\n",
       "Name: count, dtype: int64"
      ]
     },
     "execution_count": 247,
     "metadata": {},
     "output_type": "execute_result"
    }
   ],
   "source": [
    "df['Exited'].value_counts()"
   ]
  },
  {
   "cell_type": "code",
   "execution_count": 248,
   "metadata": {},
   "outputs": [
    {
     "data": {
      "text/plain": [
       "Geography\n",
       "France     5014\n",
       "Germany    2509\n",
       "Spain      2477\n",
       "Name: count, dtype: int64"
      ]
     },
     "execution_count": 248,
     "metadata": {},
     "output_type": "execute_result"
    }
   ],
   "source": [
    "df['Geography'].value_counts()"
   ]
  },
  {
   "cell_type": "code",
   "execution_count": 249,
   "metadata": {},
   "outputs": [
    {
     "data": {
      "text/plain": [
       "Gender\n",
       "Male      5457\n",
       "Female    4543\n",
       "Name: count, dtype: int64"
      ]
     },
     "execution_count": 249,
     "metadata": {},
     "output_type": "execute_result"
    }
   ],
   "source": [
    "df['Gender'].value_counts()"
   ]
  },
  {
   "cell_type": "code",
   "execution_count": 250,
   "metadata": {},
   "outputs": [],
   "source": [
    "df.drop(columns=['RowNumber', 'CustomerId', 'Surname'], inplace=True)"
   ]
  },
  {
   "cell_type": "code",
   "execution_count": 251,
   "metadata": {},
   "outputs": [
    {
     "data": {
      "text/html": [
       "<div>\n",
       "<style scoped>\n",
       "    .dataframe tbody tr th:only-of-type {\n",
       "        vertical-align: middle;\n",
       "    }\n",
       "\n",
       "    .dataframe tbody tr th {\n",
       "        vertical-align: top;\n",
       "    }\n",
       "\n",
       "    .dataframe thead th {\n",
       "        text-align: right;\n",
       "    }\n",
       "</style>\n",
       "<table border=\"1\" class=\"dataframe\">\n",
       "  <thead>\n",
       "    <tr style=\"text-align: right;\">\n",
       "      <th></th>\n",
       "      <th>CreditScore</th>\n",
       "      <th>Geography</th>\n",
       "      <th>Gender</th>\n",
       "      <th>Age</th>\n",
       "      <th>Tenure</th>\n",
       "      <th>Balance</th>\n",
       "      <th>NumOfProducts</th>\n",
       "      <th>HasCrCard</th>\n",
       "      <th>IsActiveMember</th>\n",
       "      <th>EstimatedSalary</th>\n",
       "      <th>Exited</th>\n",
       "    </tr>\n",
       "  </thead>\n",
       "  <tbody>\n",
       "    <tr>\n",
       "      <th>0</th>\n",
       "      <td>619</td>\n",
       "      <td>France</td>\n",
       "      <td>Female</td>\n",
       "      <td>42</td>\n",
       "      <td>2</td>\n",
       "      <td>0.00</td>\n",
       "      <td>1</td>\n",
       "      <td>1</td>\n",
       "      <td>1</td>\n",
       "      <td>101348.88</td>\n",
       "      <td>1</td>\n",
       "    </tr>\n",
       "    <tr>\n",
       "      <th>1</th>\n",
       "      <td>608</td>\n",
       "      <td>Spain</td>\n",
       "      <td>Female</td>\n",
       "      <td>41</td>\n",
       "      <td>1</td>\n",
       "      <td>83807.86</td>\n",
       "      <td>1</td>\n",
       "      <td>0</td>\n",
       "      <td>1</td>\n",
       "      <td>112542.58</td>\n",
       "      <td>0</td>\n",
       "    </tr>\n",
       "    <tr>\n",
       "      <th>2</th>\n",
       "      <td>502</td>\n",
       "      <td>France</td>\n",
       "      <td>Female</td>\n",
       "      <td>42</td>\n",
       "      <td>8</td>\n",
       "      <td>159660.80</td>\n",
       "      <td>3</td>\n",
       "      <td>1</td>\n",
       "      <td>0</td>\n",
       "      <td>113931.57</td>\n",
       "      <td>1</td>\n",
       "    </tr>\n",
       "    <tr>\n",
       "      <th>3</th>\n",
       "      <td>699</td>\n",
       "      <td>France</td>\n",
       "      <td>Female</td>\n",
       "      <td>39</td>\n",
       "      <td>1</td>\n",
       "      <td>0.00</td>\n",
       "      <td>2</td>\n",
       "      <td>0</td>\n",
       "      <td>0</td>\n",
       "      <td>93826.63</td>\n",
       "      <td>0</td>\n",
       "    </tr>\n",
       "    <tr>\n",
       "      <th>4</th>\n",
       "      <td>850</td>\n",
       "      <td>Spain</td>\n",
       "      <td>Female</td>\n",
       "      <td>43</td>\n",
       "      <td>2</td>\n",
       "      <td>125510.82</td>\n",
       "      <td>1</td>\n",
       "      <td>1</td>\n",
       "      <td>1</td>\n",
       "      <td>79084.10</td>\n",
       "      <td>0</td>\n",
       "    </tr>\n",
       "  </tbody>\n",
       "</table>\n",
       "</div>"
      ],
      "text/plain": [
       "   CreditScore Geography  Gender  Age  Tenure    Balance  NumOfProducts  \\\n",
       "0          619    France  Female   42       2       0.00              1   \n",
       "1          608     Spain  Female   41       1   83807.86              1   \n",
       "2          502    France  Female   42       8  159660.80              3   \n",
       "3          699    France  Female   39       1       0.00              2   \n",
       "4          850     Spain  Female   43       2  125510.82              1   \n",
       "\n",
       "   HasCrCard  IsActiveMember  EstimatedSalary  Exited  \n",
       "0          1               1        101348.88       1  \n",
       "1          0               1        112542.58       0  \n",
       "2          1               0        113931.57       1  \n",
       "3          0               0         93826.63       0  \n",
       "4          1               1         79084.10       0  "
      ]
     },
     "execution_count": 251,
     "metadata": {},
     "output_type": "execute_result"
    }
   ],
   "source": [
    "df.head()"
   ]
  },
  {
   "cell_type": "code",
   "execution_count": 252,
   "metadata": {},
   "outputs": [],
   "source": [
    "#One-Hot Encode Geography and Gender using pandas library\n",
    "df = pd.get_dummies(df, columns=['Geography', 'Gender'], drop_first=True, dtype=int)"
   ]
  },
  {
   "cell_type": "code",
   "execution_count": 253,
   "metadata": {},
   "outputs": [
    {
     "data": {
      "text/plain": [
       "CreditScore            int64\n",
       "Age                    int64\n",
       "Tenure                 int64\n",
       "Balance              float64\n",
       "NumOfProducts          int64\n",
       "HasCrCard              int64\n",
       "IsActiveMember         int64\n",
       "EstimatedSalary      float64\n",
       "Exited                 int64\n",
       "Geography_Germany      int32\n",
       "Geography_Spain        int32\n",
       "Gender_Male            int32\n",
       "dtype: object"
      ]
     },
     "execution_count": 253,
     "metadata": {},
     "output_type": "execute_result"
    }
   ],
   "source": [
    "df.dtypes"
   ]
  },
  {
   "cell_type": "code",
   "execution_count": 254,
   "metadata": {},
   "outputs": [],
   "source": [
    "#we scale the values because if we do not scale the values the neural network does not converge"
   ]
  },
  {
   "cell_type": "code",
   "execution_count": 255,
   "metadata": {},
   "outputs": [
    {
     "data": {
      "text/plain": [
       "CreditScore            int64\n",
       "Age                    int64\n",
       "Tenure                 int64\n",
       "Balance              float64\n",
       "NumOfProducts          int64\n",
       "HasCrCard              int64\n",
       "IsActiveMember         int64\n",
       "EstimatedSalary      float64\n",
       "Exited                 int64\n",
       "Geography_Germany      int32\n",
       "Geography_Spain        int32\n",
       "Gender_Male            int32\n",
       "dtype: object"
      ]
     },
     "execution_count": 255,
     "metadata": {},
     "output_type": "execute_result"
    }
   ],
   "source": [
    "df.dtypes"
   ]
  },
  {
   "cell_type": "code",
   "execution_count": 256,
   "metadata": {},
   "outputs": [
    {
     "data": {
      "text/plain": [
       "(10000, 12)"
      ]
     },
     "execution_count": 256,
     "metadata": {},
     "output_type": "execute_result"
    }
   ],
   "source": [
    "df.shape"
   ]
  },
  {
   "cell_type": "code",
   "execution_count": 257,
   "metadata": {},
   "outputs": [],
   "source": [
    "X = df.drop(columns=['Exited'])\n",
    "y = df['Exited']"
   ]
  },
  {
   "cell_type": "code",
   "execution_count": 258,
   "metadata": {},
   "outputs": [],
   "source": [
    "from sklearn.model_selection import train_test_split\n",
    "X_train, X_test, y_train, y_test = train_test_split(X, y , test_size=0.2, random_state=1)"
   ]
  },
  {
   "cell_type": "code",
   "execution_count": 259,
   "metadata": {},
   "outputs": [
    {
     "data": {
      "text/plain": [
       "(8000, 11)"
      ]
     },
     "execution_count": 259,
     "metadata": {},
     "output_type": "execute_result"
    }
   ],
   "source": [
    "X_train.shape"
   ]
  },
  {
   "cell_type": "code",
   "execution_count": 260,
   "metadata": {},
   "outputs": [],
   "source": [
    "from sklearn.preprocessing import StandardScaler\n",
    "scaler = StandardScaler()\n",
    "X_train_scaled = scaler.fit_transform(X_train)\n",
    "X_test_scaled = scaler.transform(X_test)"
   ]
  },
  {
   "cell_type": "code",
   "execution_count": 261,
   "metadata": {},
   "outputs": [
    {
     "data": {
      "text/plain": [
       "array([[-0.23082038, -0.94449979, -0.70174202, ...,  1.71490137,\n",
       "        -0.57273139,  0.91509065],\n",
       "       [-0.25150912, -0.94449979, -0.35520275, ..., -0.58312392,\n",
       "        -0.57273139, -1.09278791],\n",
       "       [-0.3963303 ,  0.77498705,  0.33787579, ...,  1.71490137,\n",
       "        -0.57273139, -1.09278791],\n",
       "       ...,\n",
       "       [ 0.22433188,  0.58393295,  1.3774936 , ..., -0.58312392,\n",
       "        -0.57273139, -1.09278791],\n",
       "       [ 0.13123255,  0.01077067,  1.03095433, ..., -0.58312392,\n",
       "        -0.57273139, -1.09278791],\n",
       "       [ 1.1656695 ,  0.29735181,  0.33787579, ...,  1.71490137,\n",
       "        -0.57273139,  0.91509065]])"
      ]
     },
     "execution_count": 261,
     "metadata": {},
     "output_type": "execute_result"
    }
   ],
   "source": [
    "X_train_scaled"
   ]
  },
  {
   "cell_type": "code",
   "execution_count": 262,
   "metadata": {},
   "outputs": [],
   "source": [
    "import tensorflow\n",
    "from tensorflow import keras\n",
    "from tensorflow.keras import Sequential\n",
    "from tensorflow.keras.layers import Dense"
   ]
  },
  {
   "cell_type": "code",
   "execution_count": 263,
   "metadata": {},
   "outputs": [
    {
     "name": "stderr",
     "output_type": "stream",
     "text": [
      "C:\\Users\\srija\\AppData\\Local\\Packages\\PythonSoftwareFoundation.Python.3.11_qbz5n2kfra8p0\\LocalCache\\local-packages\\Python311\\site-packages\\keras\\src\\layers\\core\\dense.py:87: UserWarning: Do not pass an `input_shape`/`input_dim` argument to a layer. When using Sequential models, prefer using an `Input(shape)` object as the first layer in the model instead.\n",
      "  super().__init__(activity_regularizer=activity_regularizer, **kwargs)\n"
     ]
    }
   ],
   "source": [
    "model = Sequential()\n",
    "model.add(Dense(11, activation='relu', input_dim = 11))\n",
    "model.add(Dense(11, activation='relu'))\n",
    "model.add(Dense(1, activation='sigmoid'))"
   ]
  },
  {
   "cell_type": "code",
   "execution_count": 264,
   "metadata": {},
   "outputs": [
    {
     "data": {
      "text/html": [
       "<pre style=\"white-space:pre;overflow-x:auto;line-height:normal;font-family:Menlo,'DejaVu Sans Mono',consolas,'Courier New',monospace\"><span style=\"font-weight: bold\">Model: \"sequential_4\"</span>\n",
       "</pre>\n"
      ],
      "text/plain": [
       "\u001b[1mModel: \"sequential_4\"\u001b[0m\n"
      ]
     },
     "metadata": {},
     "output_type": "display_data"
    },
    {
     "data": {
      "text/html": [
       "<pre style=\"white-space:pre;overflow-x:auto;line-height:normal;font-family:Menlo,'DejaVu Sans Mono',consolas,'Courier New',monospace\">┏━━━━━━━━━━━━━━━━━━━━━━━━━━━━━━━━━┳━━━━━━━━━━━━━━━━━━━━━━━━┳━━━━━━━━━━━━━━━┓\n",
       "┃<span style=\"font-weight: bold\"> Layer (type)                    </span>┃<span style=\"font-weight: bold\"> Output Shape           </span>┃<span style=\"font-weight: bold\">       Param # </span>┃\n",
       "┡━━━━━━━━━━━━━━━━━━━━━━━━━━━━━━━━━╇━━━━━━━━━━━━━━━━━━━━━━━━╇━━━━━━━━━━━━━━━┩\n",
       "│ dense_10 (<span style=\"color: #0087ff; text-decoration-color: #0087ff\">Dense</span>)                │ (<span style=\"color: #00d7ff; text-decoration-color: #00d7ff\">None</span>, <span style=\"color: #00af00; text-decoration-color: #00af00\">11</span>)             │           <span style=\"color: #00af00; text-decoration-color: #00af00\">132</span> │\n",
       "├─────────────────────────────────┼────────────────────────┼───────────────┤\n",
       "│ dense_11 (<span style=\"color: #0087ff; text-decoration-color: #0087ff\">Dense</span>)                │ (<span style=\"color: #00d7ff; text-decoration-color: #00d7ff\">None</span>, <span style=\"color: #00af00; text-decoration-color: #00af00\">11</span>)             │           <span style=\"color: #00af00; text-decoration-color: #00af00\">132</span> │\n",
       "├─────────────────────────────────┼────────────────────────┼───────────────┤\n",
       "│ dense_12 (<span style=\"color: #0087ff; text-decoration-color: #0087ff\">Dense</span>)                │ (<span style=\"color: #00d7ff; text-decoration-color: #00d7ff\">None</span>, <span style=\"color: #00af00; text-decoration-color: #00af00\">1</span>)              │            <span style=\"color: #00af00; text-decoration-color: #00af00\">12</span> │\n",
       "└─────────────────────────────────┴────────────────────────┴───────────────┘\n",
       "</pre>\n"
      ],
      "text/plain": [
       "┏━━━━━━━━━━━━━━━━━━━━━━━━━━━━━━━━━┳━━━━━━━━━━━━━━━━━━━━━━━━┳━━━━━━━━━━━━━━━┓\n",
       "┃\u001b[1m \u001b[0m\u001b[1mLayer (type)                   \u001b[0m\u001b[1m \u001b[0m┃\u001b[1m \u001b[0m\u001b[1mOutput Shape          \u001b[0m\u001b[1m \u001b[0m┃\u001b[1m \u001b[0m\u001b[1m      Param #\u001b[0m\u001b[1m \u001b[0m┃\n",
       "┡━━━━━━━━━━━━━━━━━━━━━━━━━━━━━━━━━╇━━━━━━━━━━━━━━━━━━━━━━━━╇━━━━━━━━━━━━━━━┩\n",
       "│ dense_10 (\u001b[38;5;33mDense\u001b[0m)                │ (\u001b[38;5;45mNone\u001b[0m, \u001b[38;5;34m11\u001b[0m)             │           \u001b[38;5;34m132\u001b[0m │\n",
       "├─────────────────────────────────┼────────────────────────┼───────────────┤\n",
       "│ dense_11 (\u001b[38;5;33mDense\u001b[0m)                │ (\u001b[38;5;45mNone\u001b[0m, \u001b[38;5;34m11\u001b[0m)             │           \u001b[38;5;34m132\u001b[0m │\n",
       "├─────────────────────────────────┼────────────────────────┼───────────────┤\n",
       "│ dense_12 (\u001b[38;5;33mDense\u001b[0m)                │ (\u001b[38;5;45mNone\u001b[0m, \u001b[38;5;34m1\u001b[0m)              │            \u001b[38;5;34m12\u001b[0m │\n",
       "└─────────────────────────────────┴────────────────────────┴───────────────┘\n"
      ]
     },
     "metadata": {},
     "output_type": "display_data"
    },
    {
     "data": {
      "text/html": [
       "<pre style=\"white-space:pre;overflow-x:auto;line-height:normal;font-family:Menlo,'DejaVu Sans Mono',consolas,'Courier New',monospace\"><span style=\"font-weight: bold\"> Total params: </span><span style=\"color: #00af00; text-decoration-color: #00af00\">276</span> (1.08 KB)\n",
       "</pre>\n"
      ],
      "text/plain": [
       "\u001b[1m Total params: \u001b[0m\u001b[38;5;34m276\u001b[0m (1.08 KB)\n"
      ]
     },
     "metadata": {},
     "output_type": "display_data"
    },
    {
     "data": {
      "text/html": [
       "<pre style=\"white-space:pre;overflow-x:auto;line-height:normal;font-family:Menlo,'DejaVu Sans Mono',consolas,'Courier New',monospace\"><span style=\"font-weight: bold\"> Trainable params: </span><span style=\"color: #00af00; text-decoration-color: #00af00\">276</span> (1.08 KB)\n",
       "</pre>\n"
      ],
      "text/plain": [
       "\u001b[1m Trainable params: \u001b[0m\u001b[38;5;34m276\u001b[0m (1.08 KB)\n"
      ]
     },
     "metadata": {},
     "output_type": "display_data"
    },
    {
     "data": {
      "text/html": [
       "<pre style=\"white-space:pre;overflow-x:auto;line-height:normal;font-family:Menlo,'DejaVu Sans Mono',consolas,'Courier New',monospace\"><span style=\"font-weight: bold\"> Non-trainable params: </span><span style=\"color: #00af00; text-decoration-color: #00af00\">0</span> (0.00 B)\n",
       "</pre>\n"
      ],
      "text/plain": [
       "\u001b[1m Non-trainable params: \u001b[0m\u001b[38;5;34m0\u001b[0m (0.00 B)\n"
      ]
     },
     "metadata": {},
     "output_type": "display_data"
    }
   ],
   "source": [
    "model.summary()"
   ]
  },
  {
   "cell_type": "code",
   "execution_count": 265,
   "metadata": {},
   "outputs": [],
   "source": [
    "model.compile(loss='binary_crossentropy', optimizer='Adam', metrics=['accuracy'])"
   ]
  },
  {
   "cell_type": "code",
   "execution_count": 266,
   "metadata": {},
   "outputs": [
    {
     "name": "stdout",
     "output_type": "stream",
     "text": [
      "Epoch 1/100\n",
      "\u001b[1m200/200\u001b[0m \u001b[32m━━━━━━━━━━━━━━━━━━━━\u001b[0m\u001b[37m\u001b[0m \u001b[1m1s\u001b[0m 2ms/step - accuracy: 0.7079 - loss: 0.6067 - val_accuracy: 0.8000 - val_loss: 0.4760\n",
      "Epoch 2/100\n",
      "\u001b[1m200/200\u001b[0m \u001b[32m━━━━━━━━━━━━━━━━━━━━\u001b[0m\u001b[37m\u001b[0m \u001b[1m0s\u001b[0m 1ms/step - accuracy: 0.8032 - loss: 0.4547 - val_accuracy: 0.8100 - val_loss: 0.4474\n",
      "Epoch 3/100\n",
      "\u001b[1m200/200\u001b[0m \u001b[32m━━━━━━━━━━━━━━━━━━━━\u001b[0m\u001b[37m\u001b[0m \u001b[1m0s\u001b[0m 1ms/step - accuracy: 0.8037 - loss: 0.4369 - val_accuracy: 0.8175 - val_loss: 0.4372\n",
      "Epoch 4/100\n",
      "\u001b[1m200/200\u001b[0m \u001b[32m━━━━━━━━━━━━━━━━━━━━\u001b[0m\u001b[37m\u001b[0m \u001b[1m0s\u001b[0m 2ms/step - accuracy: 0.8159 - loss: 0.4266 - val_accuracy: 0.8225 - val_loss: 0.4317\n",
      "Epoch 5/100\n",
      "\u001b[1m200/200\u001b[0m \u001b[32m━━━━━━━━━━━━━━━━━━━━\u001b[0m\u001b[37m\u001b[0m \u001b[1m0s\u001b[0m 2ms/step - accuracy: 0.8165 - loss: 0.4265 - val_accuracy: 0.8175 - val_loss: 0.4259\n",
      "Epoch 6/100\n",
      "\u001b[1m200/200\u001b[0m \u001b[32m━━━━━━━━━━━━━━━━━━━━\u001b[0m\u001b[37m\u001b[0m \u001b[1m0s\u001b[0m 2ms/step - accuracy: 0.8298 - loss: 0.4083 - val_accuracy: 0.8194 - val_loss: 0.4232\n",
      "Epoch 7/100\n",
      "\u001b[1m200/200\u001b[0m \u001b[32m━━━━━━━━━━━━━━━━━━━━\u001b[0m\u001b[37m\u001b[0m \u001b[1m0s\u001b[0m 1ms/step - accuracy: 0.8253 - loss: 0.4127 - val_accuracy: 0.8238 - val_loss: 0.4200\n",
      "Epoch 8/100\n",
      "\u001b[1m200/200\u001b[0m \u001b[32m━━━━━━━━━━━━━━━━━━━━\u001b[0m\u001b[37m\u001b[0m \u001b[1m0s\u001b[0m 1ms/step - accuracy: 0.8295 - loss: 0.4166 - val_accuracy: 0.8225 - val_loss: 0.4177\n",
      "Epoch 9/100\n",
      "\u001b[1m200/200\u001b[0m \u001b[32m━━━━━━━━━━━━━━━━━━━━\u001b[0m\u001b[37m\u001b[0m \u001b[1m0s\u001b[0m 1ms/step - accuracy: 0.8407 - loss: 0.4018 - val_accuracy: 0.8244 - val_loss: 0.4159\n",
      "Epoch 10/100\n",
      "\u001b[1m200/200\u001b[0m \u001b[32m━━━━━━━━━━━━━━━━━━━━\u001b[0m\u001b[37m\u001b[0m \u001b[1m0s\u001b[0m 1ms/step - accuracy: 0.8310 - loss: 0.4023 - val_accuracy: 0.8250 - val_loss: 0.4135\n",
      "Epoch 11/100\n",
      "\u001b[1m200/200\u001b[0m \u001b[32m━━━━━━━━━━━━━━━━━━━━\u001b[0m\u001b[37m\u001b[0m \u001b[1m0s\u001b[0m 1ms/step - accuracy: 0.8394 - loss: 0.3964 - val_accuracy: 0.8250 - val_loss: 0.4123\n",
      "Epoch 12/100\n",
      "\u001b[1m200/200\u001b[0m \u001b[32m━━━━━━━━━━━━━━━━━━━━\u001b[0m\u001b[37m\u001b[0m \u001b[1m0s\u001b[0m 2ms/step - accuracy: 0.8402 - loss: 0.3952 - val_accuracy: 0.8219 - val_loss: 0.4099\n",
      "Epoch 13/100\n",
      "\u001b[1m200/200\u001b[0m \u001b[32m━━━━━━━━━━━━━━━━━━━━\u001b[0m\u001b[37m\u001b[0m \u001b[1m0s\u001b[0m 1ms/step - accuracy: 0.8402 - loss: 0.3961 - val_accuracy: 0.8238 - val_loss: 0.4086\n",
      "Epoch 14/100\n",
      "\u001b[1m200/200\u001b[0m \u001b[32m━━━━━━━━━━━━━━━━━━━━\u001b[0m\u001b[37m\u001b[0m \u001b[1m0s\u001b[0m 1ms/step - accuracy: 0.8433 - loss: 0.3842 - val_accuracy: 0.8275 - val_loss: 0.4049\n",
      "Epoch 15/100\n",
      "\u001b[1m200/200\u001b[0m \u001b[32m━━━━━━━━━━━━━━━━━━━━\u001b[0m\u001b[37m\u001b[0m \u001b[1m0s\u001b[0m 1ms/step - accuracy: 0.8443 - loss: 0.3818 - val_accuracy: 0.8281 - val_loss: 0.4026\n",
      "Epoch 16/100\n",
      "\u001b[1m200/200\u001b[0m \u001b[32m━━━━━━━━━━━━━━━━━━━━\u001b[0m\u001b[37m\u001b[0m \u001b[1m0s\u001b[0m 1ms/step - accuracy: 0.8413 - loss: 0.3893 - val_accuracy: 0.8263 - val_loss: 0.3987\n",
      "Epoch 17/100\n",
      "\u001b[1m200/200\u001b[0m \u001b[32m━━━━━━━━━━━━━━━━━━━━\u001b[0m\u001b[37m\u001b[0m \u001b[1m0s\u001b[0m 1ms/step - accuracy: 0.8396 - loss: 0.3974 - val_accuracy: 0.8269 - val_loss: 0.3944\n",
      "Epoch 18/100\n",
      "\u001b[1m200/200\u001b[0m \u001b[32m━━━━━━━━━━━━━━━━━━━━\u001b[0m\u001b[37m\u001b[0m \u001b[1m0s\u001b[0m 1ms/step - accuracy: 0.8538 - loss: 0.3671 - val_accuracy: 0.8338 - val_loss: 0.3853\n",
      "Epoch 19/100\n",
      "\u001b[1m200/200\u001b[0m \u001b[32m━━━━━━━━━━━━━━━━━━━━\u001b[0m\u001b[37m\u001b[0m \u001b[1m0s\u001b[0m 1ms/step - accuracy: 0.8460 - loss: 0.3763 - val_accuracy: 0.8375 - val_loss: 0.3778\n",
      "Epoch 20/100\n",
      "\u001b[1m200/200\u001b[0m \u001b[32m━━━━━━━━━━━━━━━━━━━━\u001b[0m\u001b[37m\u001b[0m \u001b[1m0s\u001b[0m 2ms/step - accuracy: 0.8517 - loss: 0.3677 - val_accuracy: 0.8419 - val_loss: 0.3700\n",
      "Epoch 21/100\n",
      "\u001b[1m200/200\u001b[0m \u001b[32m━━━━━━━━━━━━━━━━━━━━\u001b[0m\u001b[37m\u001b[0m \u001b[1m0s\u001b[0m 2ms/step - accuracy: 0.8461 - loss: 0.3711 - val_accuracy: 0.8444 - val_loss: 0.3634\n",
      "Epoch 22/100\n",
      "\u001b[1m200/200\u001b[0m \u001b[32m━━━━━━━━━━━━━━━━━━━━\u001b[0m\u001b[37m\u001b[0m \u001b[1m0s\u001b[0m 2ms/step - accuracy: 0.8555 - loss: 0.3634 - val_accuracy: 0.8487 - val_loss: 0.3581\n",
      "Epoch 23/100\n",
      "\u001b[1m200/200\u001b[0m \u001b[32m━━━━━━━━━━━━━━━━━━━━\u001b[0m\u001b[37m\u001b[0m \u001b[1m0s\u001b[0m 1ms/step - accuracy: 0.8603 - loss: 0.3471 - val_accuracy: 0.8506 - val_loss: 0.3542\n",
      "Epoch 24/100\n",
      "\u001b[1m200/200\u001b[0m \u001b[32m━━━━━━━━━━━━━━━━━━━━\u001b[0m\u001b[37m\u001b[0m \u001b[1m1s\u001b[0m 4ms/step - accuracy: 0.8630 - loss: 0.3457 - val_accuracy: 0.8506 - val_loss: 0.3518\n",
      "Epoch 25/100\n",
      "\u001b[1m200/200\u001b[0m \u001b[32m━━━━━━━━━━━━━━━━━━━━\u001b[0m\u001b[37m\u001b[0m \u001b[1m1s\u001b[0m 2ms/step - accuracy: 0.8613 - loss: 0.3471 - val_accuracy: 0.8512 - val_loss: 0.3494\n",
      "Epoch 26/100\n",
      "\u001b[1m200/200\u001b[0m \u001b[32m━━━━━━━━━━━━━━━━━━━━\u001b[0m\u001b[37m\u001b[0m \u001b[1m1s\u001b[0m 3ms/step - accuracy: 0.8668 - loss: 0.3324 - val_accuracy: 0.8525 - val_loss: 0.3481\n",
      "Epoch 27/100\n",
      "\u001b[1m200/200\u001b[0m \u001b[32m━━━━━━━━━━━━━━━━━━━━\u001b[0m\u001b[37m\u001b[0m \u001b[1m1s\u001b[0m 3ms/step - accuracy: 0.8620 - loss: 0.3414 - val_accuracy: 0.8531 - val_loss: 0.3489\n",
      "Epoch 28/100\n",
      "\u001b[1m200/200\u001b[0m \u001b[32m━━━━━━━━━━━━━━━━━━━━\u001b[0m\u001b[37m\u001b[0m \u001b[1m1s\u001b[0m 3ms/step - accuracy: 0.8645 - loss: 0.3337 - val_accuracy: 0.8500 - val_loss: 0.3484\n",
      "Epoch 29/100\n",
      "\u001b[1m200/200\u001b[0m \u001b[32m━━━━━━━━━━━━━━━━━━━━\u001b[0m\u001b[37m\u001b[0m \u001b[1m1s\u001b[0m 2ms/step - accuracy: 0.8643 - loss: 0.3346 - val_accuracy: 0.8512 - val_loss: 0.3462\n",
      "Epoch 30/100\n",
      "\u001b[1m200/200\u001b[0m \u001b[32m━━━━━━━━━━━━━━━━━━━━\u001b[0m\u001b[37m\u001b[0m \u001b[1m1s\u001b[0m 2ms/step - accuracy: 0.8617 - loss: 0.3370 - val_accuracy: 0.8525 - val_loss: 0.3469\n",
      "Epoch 31/100\n",
      "\u001b[1m200/200\u001b[0m \u001b[32m━━━━━━━━━━━━━━━━━━━━\u001b[0m\u001b[37m\u001b[0m \u001b[1m1s\u001b[0m 3ms/step - accuracy: 0.8626 - loss: 0.3409 - val_accuracy: 0.8537 - val_loss: 0.3461\n",
      "Epoch 32/100\n",
      "\u001b[1m200/200\u001b[0m \u001b[32m━━━━━━━━━━━━━━━━━━━━\u001b[0m\u001b[37m\u001b[0m \u001b[1m1s\u001b[0m 3ms/step - accuracy: 0.8660 - loss: 0.3280 - val_accuracy: 0.8531 - val_loss: 0.3451\n",
      "Epoch 33/100\n",
      "\u001b[1m200/200\u001b[0m \u001b[32m━━━━━━━━━━━━━━━━━━━━\u001b[0m\u001b[37m\u001b[0m \u001b[1m1s\u001b[0m 3ms/step - accuracy: 0.8552 - loss: 0.3457 - val_accuracy: 0.8531 - val_loss: 0.3462\n",
      "Epoch 34/100\n",
      "\u001b[1m200/200\u001b[0m \u001b[32m━━━━━━━━━━━━━━━━━━━━\u001b[0m\u001b[37m\u001b[0m \u001b[1m1s\u001b[0m 2ms/step - accuracy: 0.8644 - loss: 0.3321 - val_accuracy: 0.8494 - val_loss: 0.3455\n",
      "Epoch 35/100\n",
      "\u001b[1m200/200\u001b[0m \u001b[32m━━━━━━━━━━━━━━━━━━━━\u001b[0m\u001b[37m\u001b[0m \u001b[1m1s\u001b[0m 3ms/step - accuracy: 0.8640 - loss: 0.3294 - val_accuracy: 0.8519 - val_loss: 0.3473\n",
      "Epoch 36/100\n",
      "\u001b[1m200/200\u001b[0m \u001b[32m━━━━━━━━━━━━━━━━━━━━\u001b[0m\u001b[37m\u001b[0m \u001b[1m1s\u001b[0m 3ms/step - accuracy: 0.8711 - loss: 0.3207 - val_accuracy: 0.8519 - val_loss: 0.3451\n",
      "Epoch 37/100\n",
      "\u001b[1m200/200\u001b[0m \u001b[32m━━━━━━━━━━━━━━━━━━━━\u001b[0m\u001b[37m\u001b[0m \u001b[1m1s\u001b[0m 2ms/step - accuracy: 0.8601 - loss: 0.3425 - val_accuracy: 0.8506 - val_loss: 0.3459\n",
      "Epoch 38/100\n",
      "\u001b[1m200/200\u001b[0m \u001b[32m━━━━━━━━━━━━━━━━━━━━\u001b[0m\u001b[37m\u001b[0m \u001b[1m1s\u001b[0m 3ms/step - accuracy: 0.8641 - loss: 0.3327 - val_accuracy: 0.8544 - val_loss: 0.3439\n",
      "Epoch 39/100\n",
      "\u001b[1m200/200\u001b[0m \u001b[32m━━━━━━━━━━━━━━━━━━━━\u001b[0m\u001b[37m\u001b[0m \u001b[1m1s\u001b[0m 3ms/step - accuracy: 0.8633 - loss: 0.3301 - val_accuracy: 0.8531 - val_loss: 0.3470\n",
      "Epoch 40/100\n",
      "\u001b[1m200/200\u001b[0m \u001b[32m━━━━━━━━━━━━━━━━━━━━\u001b[0m\u001b[37m\u001b[0m \u001b[1m1s\u001b[0m 3ms/step - accuracy: 0.8665 - loss: 0.3299 - val_accuracy: 0.8531 - val_loss: 0.3439\n",
      "Epoch 41/100\n",
      "\u001b[1m200/200\u001b[0m \u001b[32m━━━━━━━━━━━━━━━━━━━━\u001b[0m\u001b[37m\u001b[0m \u001b[1m1s\u001b[0m 2ms/step - accuracy: 0.8689 - loss: 0.3231 - val_accuracy: 0.8506 - val_loss: 0.3454\n",
      "Epoch 42/100\n",
      "\u001b[1m200/200\u001b[0m \u001b[32m━━━━━━━━━━━━━━━━━━━━\u001b[0m\u001b[37m\u001b[0m \u001b[1m1s\u001b[0m 2ms/step - accuracy: 0.8620 - loss: 0.3404 - val_accuracy: 0.8512 - val_loss: 0.3438\n",
      "Epoch 43/100\n",
      "\u001b[1m200/200\u001b[0m \u001b[32m━━━━━━━━━━━━━━━━━━━━\u001b[0m\u001b[37m\u001b[0m \u001b[1m1s\u001b[0m 3ms/step - accuracy: 0.8545 - loss: 0.3486 - val_accuracy: 0.8531 - val_loss: 0.3437\n",
      "Epoch 44/100\n",
      "\u001b[1m200/200\u001b[0m \u001b[32m━━━━━━━━━━━━━━━━━━━━\u001b[0m\u001b[37m\u001b[0m \u001b[1m1s\u001b[0m 2ms/step - accuracy: 0.8635 - loss: 0.3360 - val_accuracy: 0.8525 - val_loss: 0.3442\n",
      "Epoch 45/100\n",
      "\u001b[1m200/200\u001b[0m \u001b[32m━━━━━━━━━━━━━━━━━━━━\u001b[0m\u001b[37m\u001b[0m \u001b[1m1s\u001b[0m 2ms/step - accuracy: 0.8608 - loss: 0.3317 - val_accuracy: 0.8544 - val_loss: 0.3434\n",
      "Epoch 46/100\n",
      "\u001b[1m200/200\u001b[0m \u001b[32m━━━━━━━━━━━━━━━━━━━━\u001b[0m\u001b[37m\u001b[0m \u001b[1m1s\u001b[0m 2ms/step - accuracy: 0.8695 - loss: 0.3216 - val_accuracy: 0.8556 - val_loss: 0.3423\n",
      "Epoch 47/100\n",
      "\u001b[1m200/200\u001b[0m \u001b[32m━━━━━━━━━━━━━━━━━━━━\u001b[0m\u001b[37m\u001b[0m \u001b[1m1s\u001b[0m 2ms/step - accuracy: 0.8703 - loss: 0.3202 - val_accuracy: 0.8550 - val_loss: 0.3433\n",
      "Epoch 48/100\n",
      "\u001b[1m200/200\u001b[0m \u001b[32m━━━━━━━━━━━━━━━━━━━━\u001b[0m\u001b[37m\u001b[0m \u001b[1m1s\u001b[0m 3ms/step - accuracy: 0.8750 - loss: 0.3122 - val_accuracy: 0.8562 - val_loss: 0.3427\n",
      "Epoch 49/100\n",
      "\u001b[1m200/200\u001b[0m \u001b[32m━━━━━━━━━━━━━━━━━━━━\u001b[0m\u001b[37m\u001b[0m \u001b[1m0s\u001b[0m 1ms/step - accuracy: 0.8687 - loss: 0.3159 - val_accuracy: 0.8525 - val_loss: 0.3443\n",
      "Epoch 50/100\n",
      "\u001b[1m200/200\u001b[0m \u001b[32m━━━━━━━━━━━━━━━━━━━━\u001b[0m\u001b[37m\u001b[0m \u001b[1m0s\u001b[0m 1ms/step - accuracy: 0.8589 - loss: 0.3375 - val_accuracy: 0.8519 - val_loss: 0.3428\n",
      "Epoch 51/100\n",
      "\u001b[1m200/200\u001b[0m \u001b[32m━━━━━━━━━━━━━━━━━━━━\u001b[0m\u001b[37m\u001b[0m \u001b[1m0s\u001b[0m 1ms/step - accuracy: 0.8635 - loss: 0.3249 - val_accuracy: 0.8506 - val_loss: 0.3441\n",
      "Epoch 52/100\n",
      "\u001b[1m200/200\u001b[0m \u001b[32m━━━━━━━━━━━━━━━━━━━━\u001b[0m\u001b[37m\u001b[0m \u001b[1m0s\u001b[0m 2ms/step - accuracy: 0.8692 - loss: 0.3217 - val_accuracy: 0.8475 - val_loss: 0.3487\n",
      "Epoch 53/100\n",
      "\u001b[1m200/200\u001b[0m \u001b[32m━━━━━━━━━━━━━━━━━━━━\u001b[0m\u001b[37m\u001b[0m \u001b[1m0s\u001b[0m 1ms/step - accuracy: 0.8597 - loss: 0.3433 - val_accuracy: 0.8487 - val_loss: 0.3472\n",
      "Epoch 54/100\n",
      "\u001b[1m200/200\u001b[0m \u001b[32m━━━━━━━━━━━━━━━━━━━━\u001b[0m\u001b[37m\u001b[0m \u001b[1m0s\u001b[0m 997us/step - accuracy: 0.8648 - loss: 0.3381 - val_accuracy: 0.8525 - val_loss: 0.3452\n",
      "Epoch 55/100\n",
      "\u001b[1m200/200\u001b[0m \u001b[32m━━━━━━━━━━━━━━━━━━━━\u001b[0m\u001b[37m\u001b[0m \u001b[1m0s\u001b[0m 921us/step - accuracy: 0.8745 - loss: 0.3213 - val_accuracy: 0.8519 - val_loss: 0.3440\n",
      "Epoch 56/100\n",
      "\u001b[1m200/200\u001b[0m \u001b[32m━━━━━━━━━━━━━━━━━━━━\u001b[0m\u001b[37m\u001b[0m \u001b[1m0s\u001b[0m 1ms/step - accuracy: 0.8674 - loss: 0.3308 - val_accuracy: 0.8550 - val_loss: 0.3440\n",
      "Epoch 57/100\n",
      "\u001b[1m200/200\u001b[0m \u001b[32m━━━━━━━━━━━━━━━━━━━━\u001b[0m\u001b[37m\u001b[0m \u001b[1m0s\u001b[0m 1ms/step - accuracy: 0.8626 - loss: 0.3342 - val_accuracy: 0.8525 - val_loss: 0.3451\n",
      "Epoch 58/100\n",
      "\u001b[1m200/200\u001b[0m \u001b[32m━━━━━━━━━━━━━━━━━━━━\u001b[0m\u001b[37m\u001b[0m \u001b[1m0s\u001b[0m 2ms/step - accuracy: 0.8644 - loss: 0.3278 - val_accuracy: 0.8506 - val_loss: 0.3453\n",
      "Epoch 59/100\n",
      "\u001b[1m200/200\u001b[0m \u001b[32m━━━━━━━━━━━━━━━━━━━━\u001b[0m\u001b[37m\u001b[0m \u001b[1m0s\u001b[0m 1ms/step - accuracy: 0.8673 - loss: 0.3302 - val_accuracy: 0.8531 - val_loss: 0.3452\n",
      "Epoch 60/100\n",
      "\u001b[1m200/200\u001b[0m \u001b[32m━━━━━━━━━━━━━━━━━━━━\u001b[0m\u001b[37m\u001b[0m \u001b[1m0s\u001b[0m 1ms/step - accuracy: 0.8697 - loss: 0.3205 - val_accuracy: 0.8525 - val_loss: 0.3434\n",
      "Epoch 61/100\n",
      "\u001b[1m200/200\u001b[0m \u001b[32m━━━━━━━━━━━━━━━━━━━━\u001b[0m\u001b[37m\u001b[0m \u001b[1m0s\u001b[0m 1ms/step - accuracy: 0.8645 - loss: 0.3284 - val_accuracy: 0.8512 - val_loss: 0.3446\n",
      "Epoch 62/100\n",
      "\u001b[1m200/200\u001b[0m \u001b[32m━━━━━━━━━━━━━━━━━━━━\u001b[0m\u001b[37m\u001b[0m \u001b[1m0s\u001b[0m 1ms/step - accuracy: 0.8655 - loss: 0.3322 - val_accuracy: 0.8525 - val_loss: 0.3453\n",
      "Epoch 63/100\n",
      "\u001b[1m200/200\u001b[0m \u001b[32m━━━━━━━━━━━━━━━━━━━━\u001b[0m\u001b[37m\u001b[0m \u001b[1m0s\u001b[0m 1ms/step - accuracy: 0.8759 - loss: 0.3149 - val_accuracy: 0.8500 - val_loss: 0.3470\n",
      "Epoch 64/100\n",
      "\u001b[1m200/200\u001b[0m \u001b[32m━━━━━━━━━━━━━━━━━━━━\u001b[0m\u001b[37m\u001b[0m \u001b[1m0s\u001b[0m 2ms/step - accuracy: 0.8674 - loss: 0.3242 - val_accuracy: 0.8500 - val_loss: 0.3449\n",
      "Epoch 65/100\n",
      "\u001b[1m200/200\u001b[0m \u001b[32m━━━━━━━━━━━━━━━━━━━━\u001b[0m\u001b[37m\u001b[0m \u001b[1m0s\u001b[0m 1ms/step - accuracy: 0.8700 - loss: 0.3253 - val_accuracy: 0.8506 - val_loss: 0.3448\n",
      "Epoch 66/100\n",
      "\u001b[1m200/200\u001b[0m \u001b[32m━━━━━━━━━━━━━━━━━━━━\u001b[0m\u001b[37m\u001b[0m \u001b[1m0s\u001b[0m 1ms/step - accuracy: 0.8716 - loss: 0.3261 - val_accuracy: 0.8531 - val_loss: 0.3437\n",
      "Epoch 67/100\n",
      "\u001b[1m200/200\u001b[0m \u001b[32m━━━━━━━━━━━━━━━━━━━━\u001b[0m\u001b[37m\u001b[0m \u001b[1m0s\u001b[0m 1ms/step - accuracy: 0.8592 - loss: 0.3363 - val_accuracy: 0.8487 - val_loss: 0.3444\n",
      "Epoch 68/100\n",
      "\u001b[1m200/200\u001b[0m \u001b[32m━━━━━━━━━━━━━━━━━━━━\u001b[0m\u001b[37m\u001b[0m \u001b[1m0s\u001b[0m 2ms/step - accuracy: 0.8669 - loss: 0.3268 - val_accuracy: 0.8462 - val_loss: 0.3457\n",
      "Epoch 69/100\n",
      "\u001b[1m200/200\u001b[0m \u001b[32m━━━━━━━━━━━━━━━━━━━━\u001b[0m\u001b[37m\u001b[0m \u001b[1m0s\u001b[0m 2ms/step - accuracy: 0.8712 - loss: 0.3307 - val_accuracy: 0.8481 - val_loss: 0.3449\n",
      "Epoch 70/100\n",
      "\u001b[1m200/200\u001b[0m \u001b[32m━━━━━━━━━━━━━━━━━━━━\u001b[0m\u001b[37m\u001b[0m \u001b[1m0s\u001b[0m 2ms/step - accuracy: 0.8726 - loss: 0.3212 - val_accuracy: 0.8531 - val_loss: 0.3439\n",
      "Epoch 71/100\n",
      "\u001b[1m200/200\u001b[0m \u001b[32m━━━━━━━━━━━━━━━━━━━━\u001b[0m\u001b[37m\u001b[0m \u001b[1m0s\u001b[0m 1ms/step - accuracy: 0.8624 - loss: 0.3346 - val_accuracy: 0.8494 - val_loss: 0.3457\n",
      "Epoch 72/100\n",
      "\u001b[1m200/200\u001b[0m \u001b[32m━━━━━━━━━━━━━━━━━━━━\u001b[0m\u001b[37m\u001b[0m \u001b[1m0s\u001b[0m 1ms/step - accuracy: 0.8670 - loss: 0.3340 - val_accuracy: 0.8475 - val_loss: 0.3460\n",
      "Epoch 73/100\n",
      "\u001b[1m200/200\u001b[0m \u001b[32m━━━━━━━━━━━━━━━━━━━━\u001b[0m\u001b[37m\u001b[0m \u001b[1m0s\u001b[0m 2ms/step - accuracy: 0.8712 - loss: 0.3223 - val_accuracy: 0.8500 - val_loss: 0.3444\n",
      "Epoch 74/100\n",
      "\u001b[1m200/200\u001b[0m \u001b[32m━━━━━━━━━━━━━━━━━━━━\u001b[0m\u001b[37m\u001b[0m \u001b[1m0s\u001b[0m 1ms/step - accuracy: 0.8690 - loss: 0.3269 - val_accuracy: 0.8506 - val_loss: 0.3451\n",
      "Epoch 75/100\n",
      "\u001b[1m200/200\u001b[0m \u001b[32m━━━━━━━━━━━━━━━━━━━━\u001b[0m\u001b[37m\u001b[0m \u001b[1m0s\u001b[0m 1ms/step - accuracy: 0.8653 - loss: 0.3368 - val_accuracy: 0.8481 - val_loss: 0.3453\n",
      "Epoch 76/100\n",
      "\u001b[1m200/200\u001b[0m \u001b[32m━━━━━━━━━━━━━━━━━━━━\u001b[0m\u001b[37m\u001b[0m \u001b[1m0s\u001b[0m 1ms/step - accuracy: 0.8689 - loss: 0.3207 - val_accuracy: 0.8494 - val_loss: 0.3463\n",
      "Epoch 77/100\n",
      "\u001b[1m200/200\u001b[0m \u001b[32m━━━━━━━━━━━━━━━━━━━━\u001b[0m\u001b[37m\u001b[0m \u001b[1m0s\u001b[0m 2ms/step - accuracy: 0.8700 - loss: 0.3243 - val_accuracy: 0.8481 - val_loss: 0.3444\n",
      "Epoch 78/100\n",
      "\u001b[1m200/200\u001b[0m \u001b[32m━━━━━━━━━━━━━━━━━━━━\u001b[0m\u001b[37m\u001b[0m \u001b[1m0s\u001b[0m 1ms/step - accuracy: 0.8752 - loss: 0.3187 - val_accuracy: 0.8519 - val_loss: 0.3449\n",
      "Epoch 79/100\n",
      "\u001b[1m200/200\u001b[0m \u001b[32m━━━━━━━━━━━━━━━━━━━━\u001b[0m\u001b[37m\u001b[0m \u001b[1m0s\u001b[0m 1ms/step - accuracy: 0.8686 - loss: 0.3259 - val_accuracy: 0.8487 - val_loss: 0.3459\n",
      "Epoch 80/100\n",
      "\u001b[1m200/200\u001b[0m \u001b[32m━━━━━━━━━━━━━━━━━━━━\u001b[0m\u001b[37m\u001b[0m \u001b[1m0s\u001b[0m 1ms/step - accuracy: 0.8689 - loss: 0.3227 - val_accuracy: 0.8456 - val_loss: 0.3465\n",
      "Epoch 81/100\n",
      "\u001b[1m200/200\u001b[0m \u001b[32m━━━━━━━━━━━━━━━━━━━━\u001b[0m\u001b[37m\u001b[0m \u001b[1m0s\u001b[0m 1ms/step - accuracy: 0.8683 - loss: 0.3247 - val_accuracy: 0.8469 - val_loss: 0.3464\n",
      "Epoch 82/100\n",
      "\u001b[1m200/200\u001b[0m \u001b[32m━━━━━━━━━━━━━━━━━━━━\u001b[0m\u001b[37m\u001b[0m \u001b[1m0s\u001b[0m 1ms/step - accuracy: 0.8690 - loss: 0.3239 - val_accuracy: 0.8456 - val_loss: 0.3470\n",
      "Epoch 83/100\n",
      "\u001b[1m200/200\u001b[0m \u001b[32m━━━━━━━━━━━━━━━━━━━━\u001b[0m\u001b[37m\u001b[0m \u001b[1m0s\u001b[0m 2ms/step - accuracy: 0.8671 - loss: 0.3259 - val_accuracy: 0.8494 - val_loss: 0.3455\n",
      "Epoch 84/100\n",
      "\u001b[1m200/200\u001b[0m \u001b[32m━━━━━━━━━━━━━━━━━━━━\u001b[0m\u001b[37m\u001b[0m \u001b[1m0s\u001b[0m 1ms/step - accuracy: 0.8619 - loss: 0.3306 - val_accuracy: 0.8456 - val_loss: 0.3475\n",
      "Epoch 85/100\n",
      "\u001b[1m200/200\u001b[0m \u001b[32m━━━━━━━━━━━━━━━━━━━━\u001b[0m\u001b[37m\u001b[0m \u001b[1m0s\u001b[0m 2ms/step - accuracy: 0.8689 - loss: 0.3206 - val_accuracy: 0.8469 - val_loss: 0.3462\n",
      "Epoch 86/100\n",
      "\u001b[1m200/200\u001b[0m \u001b[32m━━━━━━━━━━━━━━━━━━━━\u001b[0m\u001b[37m\u001b[0m \u001b[1m0s\u001b[0m 1ms/step - accuracy: 0.8647 - loss: 0.3310 - val_accuracy: 0.8537 - val_loss: 0.3476\n",
      "Epoch 87/100\n",
      "\u001b[1m200/200\u001b[0m \u001b[32m━━━━━━━━━━━━━━━━━━━━\u001b[0m\u001b[37m\u001b[0m \u001b[1m0s\u001b[0m 2ms/step - accuracy: 0.8699 - loss: 0.3197 - val_accuracy: 0.8519 - val_loss: 0.3476\n",
      "Epoch 88/100\n",
      "\u001b[1m200/200\u001b[0m \u001b[32m━━━━━━━━━━━━━━━━━━━━\u001b[0m\u001b[37m\u001b[0m \u001b[1m0s\u001b[0m 2ms/step - accuracy: 0.8657 - loss: 0.3228 - val_accuracy: 0.8487 - val_loss: 0.3461\n",
      "Epoch 89/100\n",
      "\u001b[1m200/200\u001b[0m \u001b[32m━━━━━━━━━━━━━━━━━━━━\u001b[0m\u001b[37m\u001b[0m \u001b[1m0s\u001b[0m 1ms/step - accuracy: 0.8643 - loss: 0.3297 - val_accuracy: 0.8519 - val_loss: 0.3461\n",
      "Epoch 90/100\n",
      "\u001b[1m200/200\u001b[0m \u001b[32m━━━━━━━━━━━━━━━━━━━━\u001b[0m\u001b[37m\u001b[0m \u001b[1m0s\u001b[0m 2ms/step - accuracy: 0.8817 - loss: 0.3066 - val_accuracy: 0.8487 - val_loss: 0.3461\n",
      "Epoch 91/100\n",
      "\u001b[1m200/200\u001b[0m \u001b[32m━━━━━━━━━━━━━━━━━━━━\u001b[0m\u001b[37m\u001b[0m \u001b[1m0s\u001b[0m 1ms/step - accuracy: 0.8674 - loss: 0.3227 - val_accuracy: 0.8494 - val_loss: 0.3469\n",
      "Epoch 92/100\n",
      "\u001b[1m200/200\u001b[0m \u001b[32m━━━━━━━━━━━━━━━━━━━━\u001b[0m\u001b[37m\u001b[0m \u001b[1m0s\u001b[0m 1ms/step - accuracy: 0.8719 - loss: 0.3212 - val_accuracy: 0.8469 - val_loss: 0.3473\n",
      "Epoch 93/100\n",
      "\u001b[1m200/200\u001b[0m \u001b[32m━━━━━━━━━━━━━━━━━━━━\u001b[0m\u001b[37m\u001b[0m \u001b[1m0s\u001b[0m 2ms/step - accuracy: 0.8684 - loss: 0.3231 - val_accuracy: 0.8512 - val_loss: 0.3455\n",
      "Epoch 94/100\n",
      "\u001b[1m200/200\u001b[0m \u001b[32m━━━━━━━━━━━━━━━━━━━━\u001b[0m\u001b[37m\u001b[0m \u001b[1m0s\u001b[0m 2ms/step - accuracy: 0.8697 - loss: 0.3130 - val_accuracy: 0.8500 - val_loss: 0.3449\n",
      "Epoch 95/100\n",
      "\u001b[1m200/200\u001b[0m \u001b[32m━━━━━━━━━━━━━━━━━━━━\u001b[0m\u001b[37m\u001b[0m \u001b[1m0s\u001b[0m 1ms/step - accuracy: 0.8760 - loss: 0.3143 - val_accuracy: 0.8500 - val_loss: 0.3457\n",
      "Epoch 96/100\n",
      "\u001b[1m200/200\u001b[0m \u001b[32m━━━━━━━━━━━━━━━━━━━━\u001b[0m\u001b[37m\u001b[0m \u001b[1m0s\u001b[0m 1ms/step - accuracy: 0.8739 - loss: 0.3162 - val_accuracy: 0.8481 - val_loss: 0.3453\n",
      "Epoch 97/100\n",
      "\u001b[1m200/200\u001b[0m \u001b[32m━━━━━━━━━━━━━━━━━━━━\u001b[0m\u001b[37m\u001b[0m \u001b[1m0s\u001b[0m 2ms/step - accuracy: 0.8762 - loss: 0.3090 - val_accuracy: 0.8500 - val_loss: 0.3460\n",
      "Epoch 98/100\n",
      "\u001b[1m200/200\u001b[0m \u001b[32m━━━━━━━━━━━━━━━━━━━━\u001b[0m\u001b[37m\u001b[0m \u001b[1m0s\u001b[0m 1ms/step - accuracy: 0.8712 - loss: 0.3137 - val_accuracy: 0.8512 - val_loss: 0.3446\n",
      "Epoch 99/100\n",
      "\u001b[1m200/200\u001b[0m \u001b[32m━━━━━━━━━━━━━━━━━━━━\u001b[0m\u001b[37m\u001b[0m \u001b[1m0s\u001b[0m 1ms/step - accuracy: 0.8693 - loss: 0.3240 - val_accuracy: 0.8525 - val_loss: 0.3462\n",
      "Epoch 100/100\n",
      "\u001b[1m200/200\u001b[0m \u001b[32m━━━━━━━━━━━━━━━━━━━━\u001b[0m\u001b[37m\u001b[0m \u001b[1m0s\u001b[0m 1ms/step - accuracy: 0.8704 - loss: 0.3205 - val_accuracy: 0.8481 - val_loss: 0.3473\n"
     ]
    }
   ],
   "source": [
    "history = model.fit(X_train_scaled, y_train, epochs=100, validation_split=0.2)"
   ]
  },
  {
   "cell_type": "code",
   "execution_count": 267,
   "metadata": {},
   "outputs": [
    {
     "data": {
      "text/plain": [
       "[array([[ 0.34020367, -0.06304935,  0.39885983,  0.27327734, -0.05120581,\n",
       "          0.7699034 , -0.19965835,  0.00753788, -0.10398733,  0.19696265,\n",
       "          0.03608312],\n",
       "        [ 0.4809875 ,  0.3316758 , -0.5809156 , -0.4563997 ,  0.4973147 ,\n",
       "         -0.16761366,  0.18200547,  1.1099876 , -0.37218705, -0.7339972 ,\n",
       "         -0.40530246],\n",
       "        [ 0.21848351, -0.1211512 , -0.11146811,  0.08370488,  0.37191433,\n",
       "         -0.5864352 , -0.5772464 , -0.11397245,  0.05364067, -0.25206217,\n",
       "         -0.15038952],\n",
       "        [-0.37768584,  0.2890692 ,  0.3223779 ,  0.13933879, -0.0159731 ,\n",
       "          0.35612252,  0.01717997, -0.10752507, -0.10517871, -0.23184983,\n",
       "          0.0858938 ],\n",
       "        [-0.6302842 ,  1.2299067 ,  0.6503057 ,  0.2562782 ,  1.3059752 ,\n",
       "         -0.00541748, -0.13825025, -0.26244178,  0.20717216,  0.14885458,\n",
       "          0.5213934 ],\n",
       "        [ 0.0528794 , -0.06217568,  0.09217988,  0.7032051 ,  0.04226986,\n",
       "          0.20550984, -0.6689919 , -0.01709499,  0.50479555,  0.0901024 ,\n",
       "         -0.7200617 ],\n",
       "        [-0.4566802 , -0.34452304,  0.14685386, -0.02424888,  0.425761  ,\n",
       "          0.72742015, -0.40051708,  0.5884429 ,  0.3657016 , -0.33428717,\n",
       "         -0.13822663],\n",
       "        [ 0.12111363,  0.09913964, -0.00665965,  0.04572418,  0.02012141,\n",
       "          0.10520441,  0.02903618, -0.02540606, -0.01030307,  0.1721993 ,\n",
       "         -0.09449333],\n",
       "        [ 0.4246554 , -0.00850511, -0.0712569 , -0.36245963, -0.0225759 ,\n",
       "         -0.22620107, -0.380777  ,  0.13123164, -0.15592046,  0.35912007,\n",
       "         -0.2939492 ],\n",
       "        [ 0.01741614,  0.05521547, -0.27422747, -0.5662331 ,  0.23716304,\n",
       "         -0.28687564, -0.3023542 , -0.11507219,  0.48914787, -0.28583384,\n",
       "         -0.15785168],\n",
       "        [ 0.15029386, -0.06977508,  0.07811471,  0.18779443,  0.14912048,\n",
       "          0.14951119, -0.02135841,  0.22105306,  0.27123335,  0.10261089,\n",
       "          0.15807655]], dtype=float32),\n",
       " array([ 0.22592285, -0.4214914 , -0.21112488,  0.2275219 ,  0.47103065,\n",
       "        -0.31918243,  0.0941187 , -0.5613951 ,  0.39721578,  0.71052104,\n",
       "         0.48527122], dtype=float32)]"
      ]
     },
     "execution_count": 267,
     "metadata": {},
     "output_type": "execute_result"
    }
   ],
   "source": [
    "model.layers[0].get_weights() #we got the weights and bias for the first layer(between the input layer and the first layer)"
   ]
  },
  {
   "cell_type": "code",
   "execution_count": 268,
   "metadata": {},
   "outputs": [
    {
     "data": {
      "text/plain": [
       "[array([[-0.11176669,  0.5754701 ,  0.17540321,  0.29354954, -0.11449327,\n",
       "          0.305731  ,  0.84758425,  0.13216151,  0.12221434,  0.02936679,\n",
       "          0.08931766],\n",
       "        [ 0.8691115 ,  0.43178537, -0.14037721, -0.42219228, -0.07843176,\n",
       "         -0.75449556, -0.3347652 , -0.4864044 , -0.02533738,  0.1939283 ,\n",
       "         -0.53883785],\n",
       "        [ 0.6177553 ,  0.07180927,  0.23279253,  0.08139406,  0.20391805,\n",
       "         -0.6266482 , -0.276642  , -0.05845641, -0.32290044, -0.04049409,\n",
       "         -0.4767384 ],\n",
       "        [ 0.02987626, -0.0231744 ,  0.0743807 , -0.8216403 ,  0.331729  ,\n",
       "          0.03276187,  0.07904105, -0.1362307 ,  0.29237175,  0.10319879,\n",
       "          0.25649875],\n",
       "        [ 0.6034441 ,  0.304818  , -0.02934017, -0.47479567, -0.29954365,\n",
       "          0.8791626 , -0.2247221 ,  0.38735625, -0.13144122,  0.4229901 ,\n",
       "          0.671974  ],\n",
       "        [ 0.14292382,  0.27769032,  0.32125866, -0.6621298 , -0.52962935,\n",
       "          0.20936237,  0.34980547,  0.13831668,  0.5851181 ,  0.04410582,\n",
       "         -0.53251624],\n",
       "        [-0.3700586 ,  0.48820755,  0.04315528,  0.50339615,  0.26640934,\n",
       "          0.38209656,  0.14117189,  0.3285508 , -0.04189287, -0.4021786 ,\n",
       "         -0.23107253],\n",
       "        [-0.44824412, -0.71033835, -0.8595332 , -0.11269959, -1.2888722 ,\n",
       "          0.16336076, -0.09338497,  0.7698908 , -0.93566346,  0.49496812,\n",
       "         -0.7447364 ],\n",
       "        [ 0.19262502, -0.4085752 ,  0.4615542 ,  0.44088537, -0.36101928,\n",
       "         -0.03877767, -0.6161121 ,  0.25962082,  0.4942381 , -0.12207124,\n",
       "         -0.02132975],\n",
       "        [-0.94794   , -0.7610079 , -0.15932757, -0.48729745, -0.34583044,\n",
       "         -0.05780926,  0.16248639,  0.40878907,  0.3103429 ,  0.10253791,\n",
       "         -0.25461397],\n",
       "        [ 0.38693845, -0.7734923 , -0.02185779,  0.07316569,  0.38983458,\n",
       "          0.11400158, -0.8082261 ,  0.06426004,  0.335008  ,  0.03849411,\n",
       "          0.12972397]], dtype=float32),\n",
       " array([-0.5589483 , -0.06868677,  0.6933264 ,  0.41944268,  0.5558147 ,\n",
       "         0.04278145,  0.55414027,  0.0435513 ,  0.76621747,  0.18932994,\n",
       "         0.6965492 ], dtype=float32)]"
      ]
     },
     "execution_count": 268,
     "metadata": {},
     "output_type": "execute_result"
    }
   ],
   "source": [
    "model.layers[1].get_weights() #we got the weights and bias for the second layer(between the first layer and the second layer)"
   ]
  },
  {
   "cell_type": "code",
   "execution_count": 269,
   "metadata": {},
   "outputs": [
    {
     "data": {
      "text/plain": [
       "[array([[ 1.3290342 ],\n",
       "        [ 1.6452969 ],\n",
       "        [-0.70647126],\n",
       "        [ 1.1094159 ],\n",
       "        [-0.76020294],\n",
       "        [-0.5202878 ],\n",
       "        [ 0.80602837],\n",
       "        [-0.11696599],\n",
       "        [-0.6445903 ],\n",
       "        [-0.71453553],\n",
       "        [-0.7563836 ]], dtype=float32),\n",
       " array([-0.0519123], dtype=float32)]"
      ]
     },
     "execution_count": 269,
     "metadata": {},
     "output_type": "execute_result"
    }
   ],
   "source": [
    "model.layers[2].get_weights() #we got the weights and bias for the third layer(between the second layer and the output layer)"
   ]
  },
  {
   "cell_type": "code",
   "execution_count": 270,
   "metadata": {},
   "outputs": [
    {
     "name": "stdout",
     "output_type": "stream",
     "text": [
      "\u001b[1m63/63\u001b[0m \u001b[32m━━━━━━━━━━━━━━━━━━━━\u001b[0m\u001b[37m\u001b[0m \u001b[1m0s\u001b[0m 2ms/step\n"
     ]
    }
   ],
   "source": [
    "y_log = model.predict(X_test_scaled) #the value is not 1 or 0 it is a probability because we are using sigmoid "
   ]
  },
  {
   "cell_type": "code",
   "execution_count": 271,
   "metadata": {},
   "outputs": [],
   "source": [
    "y_pred = np.where(y_log>0.5,1,0) #we set a threshold of 0.5, if greater than 0.5 then 1 and less than 0.5 means 0"
   ]
  },
  {
   "cell_type": "code",
   "execution_count": 272,
   "metadata": {},
   "outputs": [
    {
     "data": {
      "text/plain": [
       "0.8575"
      ]
     },
     "execution_count": 272,
     "metadata": {},
     "output_type": "execute_result"
    }
   ],
   "source": [
    "from sklearn.metrics import accuracy_score\n",
    "accuracy_score(y_test, y_pred)"
   ]
  },
  {
   "cell_type": "code",
   "execution_count": 273,
   "metadata": {},
   "outputs": [],
   "source": [
    "import matplotlib.pyplot as plt"
   ]
  },
  {
   "cell_type": "code",
   "execution_count": 274,
   "metadata": {},
   "outputs": [
    {
     "data": {
      "text/plain": [
       "{'accuracy': [0.7682812213897705,\n",
       "  0.8018749952316284,\n",
       "  0.8045312762260437,\n",
       "  0.8129687309265137,\n",
       "  0.8167187571525574,\n",
       "  0.8254687786102295,\n",
       "  0.828125,\n",
       "  0.83203125,\n",
       "  0.8343750238418579,\n",
       "  0.8348437547683716,\n",
       "  0.836718738079071,\n",
       "  0.8353124856948853,\n",
       "  0.8368750214576721,\n",
       "  0.8376562595367432,\n",
       "  0.8392187356948853,\n",
       "  0.8407812714576721,\n",
       "  0.84375,\n",
       "  0.844531238079071,\n",
       "  0.8485937714576721,\n",
       "  0.8510937690734863,\n",
       "  0.8537499904632568,\n",
       "  0.8578125238418579,\n",
       "  0.8581249713897705,\n",
       "  0.8596875071525574,\n",
       "  0.8592187762260437,\n",
       "  0.8603125214576721,\n",
       "  0.860156238079071,\n",
       "  0.8635937571525574,\n",
       "  0.8621875047683716,\n",
       "  0.8628125190734863,\n",
       "  0.8635937571525574,\n",
       "  0.8621875047683716,\n",
       "  0.8639062643051147,\n",
       "  0.8628125190734863,\n",
       "  0.8645312786102295,\n",
       "  0.8651562333106995,\n",
       "  0.8646875023841858,\n",
       "  0.8645312786102295,\n",
       "  0.864062488079071,\n",
       "  0.8659374713897705,\n",
       "  0.8648437261581421,\n",
       "  0.8660937547683716,\n",
       "  0.8665624856948853,\n",
       "  0.8665624856948853,\n",
       "  0.8656250238418579,\n",
       "  0.8665624856948853,\n",
       "  0.8667187690734863,\n",
       "  0.8675000071525574,\n",
       "  0.8665624856948853,\n",
       "  0.8675000071525574,\n",
       "  0.8671875,\n",
       "  0.8673437237739563,\n",
       "  0.8659374713897705,\n",
       "  0.8692187666893005,\n",
       "  0.8681250214576721,\n",
       "  0.8685937523841858,\n",
       "  0.8681250214576721,\n",
       "  0.8676562309265137,\n",
       "  0.8681250214576721,\n",
       "  0.8676562309265137,\n",
       "  0.8706250190734863,\n",
       "  0.8676562309265137,\n",
       "  0.8698437213897705,\n",
       "  0.8690624833106995,\n",
       "  0.8681250214576721,\n",
       "  0.8687499761581421,\n",
       "  0.8682812452316284,\n",
       "  0.8684375286102295,\n",
       "  0.8696874976158142,\n",
       "  0.8693749904632568,\n",
       "  0.8673437237739563,\n",
       "  0.8698437213897705,\n",
       "  0.8695312738418579,\n",
       "  0.8693749904632568,\n",
       "  0.8698437213897705,\n",
       "  0.8687499761581421,\n",
       "  0.8687499761581421,\n",
       "  0.8701562285423279,\n",
       "  0.8684375286102295,\n",
       "  0.8682812452316284,\n",
       "  0.8693749904632568,\n",
       "  0.8701562285423279,\n",
       "  0.8706250190734863,\n",
       "  0.8692187666893005,\n",
       "  0.8676562309265137,\n",
       "  0.8700000047683716,\n",
       "  0.8681250214576721,\n",
       "  0.8685937523841858,\n",
       "  0.8682812452316284,\n",
       "  0.8701562285423279,\n",
       "  0.8692187666893005,\n",
       "  0.8698437213897705,\n",
       "  0.8701562285423279,\n",
       "  0.8681250214576721,\n",
       "  0.8696874976158142,\n",
       "  0.8698437213897705,\n",
       "  0.8695312738418579,\n",
       "  0.8681250214576721,\n",
       "  0.8689062595367432,\n",
       "  0.8665624856948853],\n",
       " 'loss': [0.5452076196670532,\n",
       "  0.45229703187942505,\n",
       "  0.43571749329566956,\n",
       "  0.4282740652561188,\n",
       "  0.4221225082874298,\n",
       "  0.41740190982818604,\n",
       "  0.4133850932121277,\n",
       "  0.4096446633338928,\n",
       "  0.4062124490737915,\n",
       "  0.4038521945476532,\n",
       "  0.40153494477272034,\n",
       "  0.39935728907585144,\n",
       "  0.3972891867160797,\n",
       "  0.39540591835975647,\n",
       "  0.39273539185523987,\n",
       "  0.38957345485687256,\n",
       "  0.3857431411743164,\n",
       "  0.3815182149410248,\n",
       "  0.37522071599960327,\n",
       "  0.3684465289115906,\n",
       "  0.36120158433914185,\n",
       "  0.3555302321910858,\n",
       "  0.3513796329498291,\n",
       "  0.3477294147014618,\n",
       "  0.3454470932483673,\n",
       "  0.3429417014122009,\n",
       "  0.34149229526519775,\n",
       "  0.34008267521858215,\n",
       "  0.33886104822158813,\n",
       "  0.3376277983188629,\n",
       "  0.33695805072784424,\n",
       "  0.3358628451824188,\n",
       "  0.3352416157722473,\n",
       "  0.33428728580474854,\n",
       "  0.3333933651447296,\n",
       "  0.33305126428604126,\n",
       "  0.33239319920539856,\n",
       "  0.33255547285079956,\n",
       "  0.33204731345176697,\n",
       "  0.3310930132865906,\n",
       "  0.331455796957016,\n",
       "  0.33067062497138977,\n",
       "  0.33037063479423523,\n",
       "  0.3298250138759613,\n",
       "  0.32977086305618286,\n",
       "  0.32936152815818787,\n",
       "  0.329136461019516,\n",
       "  0.32886385917663574,\n",
       "  0.32878577709198,\n",
       "  0.32851099967956543,\n",
       "  0.3279450237751007,\n",
       "  0.3282434046268463,\n",
       "  0.3282928466796875,\n",
       "  0.32787197828292847,\n",
       "  0.32752323150634766,\n",
       "  0.3275170922279358,\n",
       "  0.32660308480262756,\n",
       "  0.32660120725631714,\n",
       "  0.3265364468097687,\n",
       "  0.32639530301094055,\n",
       "  0.32617083191871643,\n",
       "  0.32593634724617004,\n",
       "  0.32595428824424744,\n",
       "  0.3255494236946106,\n",
       "  0.32615622878074646,\n",
       "  0.3254487216472626,\n",
       "  0.32521283626556396,\n",
       "  0.32531508803367615,\n",
       "  0.32536113262176514,\n",
       "  0.3253316879272461,\n",
       "  0.3249557912349701,\n",
       "  0.3243018090724945,\n",
       "  0.3251420855522156,\n",
       "  0.324518620967865,\n",
       "  0.3242669999599457,\n",
       "  0.32466110587120056,\n",
       "  0.3242356777191162,\n",
       "  0.3239929974079132,\n",
       "  0.32398831844329834,\n",
       "  0.3240666687488556,\n",
       "  0.32340389490127563,\n",
       "  0.32351163029670715,\n",
       "  0.32326197624206543,\n",
       "  0.32343894243240356,\n",
       "  0.3233165442943573,\n",
       "  0.3235785961151123,\n",
       "  0.3230116367340088,\n",
       "  0.3227781057357788,\n",
       "  0.3237243592739105,\n",
       "  0.32312002778053284,\n",
       "  0.32293546199798584,\n",
       "  0.3227706849575043,\n",
       "  0.32260653376579285,\n",
       "  0.3223033845424652,\n",
       "  0.32260268926620483,\n",
       "  0.32216712832450867,\n",
       "  0.3222626745700836,\n",
       "  0.32255589962005615,\n",
       "  0.3218763470649719,\n",
       "  0.3225419521331787],\n",
       " 'val_accuracy': [0.800000011920929,\n",
       "  0.8100000023841858,\n",
       "  0.8174999952316284,\n",
       "  0.8224999904632568,\n",
       "  0.8174999952316284,\n",
       "  0.8193749785423279,\n",
       "  0.8237500190734863,\n",
       "  0.8224999904632568,\n",
       "  0.8243749737739563,\n",
       "  0.824999988079071,\n",
       "  0.824999988079071,\n",
       "  0.8218749761581421,\n",
       "  0.8237500190734863,\n",
       "  0.8274999856948853,\n",
       "  0.828125,\n",
       "  0.8262500166893005,\n",
       "  0.8268749713897705,\n",
       "  0.8337500095367432,\n",
       "  0.8374999761581421,\n",
       "  0.8418750166893005,\n",
       "  0.8443750143051147,\n",
       "  0.8487499952316284,\n",
       "  0.8506249785423279,\n",
       "  0.8506249785423279,\n",
       "  0.8512499928474426,\n",
       "  0.8525000214576721,\n",
       "  0.8531249761581421,\n",
       "  0.8500000238418579,\n",
       "  0.8512499928474426,\n",
       "  0.8525000214576721,\n",
       "  0.8537499904632568,\n",
       "  0.8531249761581421,\n",
       "  0.8531249761581421,\n",
       "  0.8493750095367432,\n",
       "  0.8518750071525574,\n",
       "  0.8518750071525574,\n",
       "  0.8506249785423279,\n",
       "  0.8543750047683716,\n",
       "  0.8531249761581421,\n",
       "  0.8531249761581421,\n",
       "  0.8506249785423279,\n",
       "  0.8512499928474426,\n",
       "  0.8531249761581421,\n",
       "  0.8525000214576721,\n",
       "  0.8543750047683716,\n",
       "  0.8556249737739563,\n",
       "  0.8550000190734863,\n",
       "  0.856249988079071,\n",
       "  0.8525000214576721,\n",
       "  0.8518750071525574,\n",
       "  0.8506249785423279,\n",
       "  0.8475000262260437,\n",
       "  0.8487499952316284,\n",
       "  0.8525000214576721,\n",
       "  0.8518750071525574,\n",
       "  0.8550000190734863,\n",
       "  0.8525000214576721,\n",
       "  0.8506249785423279,\n",
       "  0.8531249761581421,\n",
       "  0.8525000214576721,\n",
       "  0.8512499928474426,\n",
       "  0.8525000214576721,\n",
       "  0.8500000238418579,\n",
       "  0.8500000238418579,\n",
       "  0.8506249785423279,\n",
       "  0.8531249761581421,\n",
       "  0.8487499952316284,\n",
       "  0.8462499976158142,\n",
       "  0.8481249809265137,\n",
       "  0.8531249761581421,\n",
       "  0.8493750095367432,\n",
       "  0.8475000262260437,\n",
       "  0.8500000238418579,\n",
       "  0.8506249785423279,\n",
       "  0.8481249809265137,\n",
       "  0.8493750095367432,\n",
       "  0.8481249809265137,\n",
       "  0.8518750071525574,\n",
       "  0.8487499952316284,\n",
       "  0.8456249833106995,\n",
       "  0.846875011920929,\n",
       "  0.8456249833106995,\n",
       "  0.8493750095367432,\n",
       "  0.8456249833106995,\n",
       "  0.846875011920929,\n",
       "  0.8537499904632568,\n",
       "  0.8518750071525574,\n",
       "  0.8487499952316284,\n",
       "  0.8518750071525574,\n",
       "  0.8487499952316284,\n",
       "  0.8493750095367432,\n",
       "  0.846875011920929,\n",
       "  0.8512499928474426,\n",
       "  0.8500000238418579,\n",
       "  0.8500000238418579,\n",
       "  0.8481249809265137,\n",
       "  0.8500000238418579,\n",
       "  0.8512499928474426,\n",
       "  0.8525000214576721,\n",
       "  0.8481249809265137],\n",
       " 'val_loss': [0.47599682211875916,\n",
       "  0.4473951756954193,\n",
       "  0.43723008036613464,\n",
       "  0.43169644474983215,\n",
       "  0.42590758204460144,\n",
       "  0.42324694991111755,\n",
       "  0.4199952185153961,\n",
       "  0.4176713526248932,\n",
       "  0.41589465737342834,\n",
       "  0.41353127360343933,\n",
       "  0.4123201072216034,\n",
       "  0.4099196195602417,\n",
       "  0.4086029827594757,\n",
       "  0.40494391322135925,\n",
       "  0.40255436301231384,\n",
       "  0.3987082242965698,\n",
       "  0.39443790912628174,\n",
       "  0.3853248655796051,\n",
       "  0.3778268098831177,\n",
       "  0.3700461983680725,\n",
       "  0.3633970618247986,\n",
       "  0.3580755889415741,\n",
       "  0.3542018234729767,\n",
       "  0.35181963443756104,\n",
       "  0.3493972420692444,\n",
       "  0.3481234610080719,\n",
       "  0.3489239811897278,\n",
       "  0.3483786880970001,\n",
       "  0.3462389409542084,\n",
       "  0.3468935787677765,\n",
       "  0.346099317073822,\n",
       "  0.34509289264678955,\n",
       "  0.3462419807910919,\n",
       "  0.3454866409301758,\n",
       "  0.34731045365333557,\n",
       "  0.34512054920196533,\n",
       "  0.3459020256996155,\n",
       "  0.34387925267219543,\n",
       "  0.34699738025665283,\n",
       "  0.3439478576183319,\n",
       "  0.34540805220603943,\n",
       "  0.34384042024612427,\n",
       "  0.34366920590400696,\n",
       "  0.34423333406448364,\n",
       "  0.34339579939842224,\n",
       "  0.34227004647254944,\n",
       "  0.34326404333114624,\n",
       "  0.3427484631538391,\n",
       "  0.3443208932876587,\n",
       "  0.34283125400543213,\n",
       "  0.3440829813480377,\n",
       "  0.34870174527168274,\n",
       "  0.34715554118156433,\n",
       "  0.3452422618865967,\n",
       "  0.34403741359710693,\n",
       "  0.34404927492141724,\n",
       "  0.34512442350387573,\n",
       "  0.3452610373497009,\n",
       "  0.3452410101890564,\n",
       "  0.3434024453163147,\n",
       "  0.34455811977386475,\n",
       "  0.3452700674533844,\n",
       "  0.34700995683670044,\n",
       "  0.34490662813186646,\n",
       "  0.34483614563941956,\n",
       "  0.34366732835769653,\n",
       "  0.3443666100502014,\n",
       "  0.34571048617362976,\n",
       "  0.3448958098888397,\n",
       "  0.34393301606178284,\n",
       "  0.3457443118095398,\n",
       "  0.3459656238555908,\n",
       "  0.3444039225578308,\n",
       "  0.34512263536453247,\n",
       "  0.34531888365745544,\n",
       "  0.34628668427467346,\n",
       "  0.34441086649894714,\n",
       "  0.34490710496902466,\n",
       "  0.3459174633026123,\n",
       "  0.34654080867767334,\n",
       "  0.3464409112930298,\n",
       "  0.34703391790390015,\n",
       "  0.3455311954021454,\n",
       "  0.34747597575187683,\n",
       "  0.34620150923728943,\n",
       "  0.34759417176246643,\n",
       "  0.3475503921508789,\n",
       "  0.3460741341114044,\n",
       "  0.3461476266384125,\n",
       "  0.3460768461227417,\n",
       "  0.3468608558177948,\n",
       "  0.34731820225715637,\n",
       "  0.3454570770263672,\n",
       "  0.34490880370140076,\n",
       "  0.3456741273403168,\n",
       "  0.3453446626663208,\n",
       "  0.3459501266479492,\n",
       "  0.3446352481842041,\n",
       "  0.3462061285972595,\n",
       "  0.3473373055458069]}"
      ]
     },
     "execution_count": 274,
     "metadata": {},
     "output_type": "execute_result"
    }
   ],
   "source": [
    "history.history"
   ]
  },
  {
   "cell_type": "code",
   "execution_count": 275,
   "metadata": {},
   "outputs": [
    {
     "data": {
      "text/plain": [
       "[<matplotlib.lines.Line2D at 0x20fd28a2e50>]"
      ]
     },
     "execution_count": 275,
     "metadata": {},
     "output_type": "execute_result"
    },
    {
     "data": {
      "image/png": "[encoded data removed]",
      "text/plain": [
       "<Figure size 640x480 with 1 Axes>"
      ]
     },
     "metadata": {},
     "output_type": "display_data"
    }
   ],
   "source": [
    "plt.plot(history.history['loss'])\n",
    "plt.plot(history.history['val_loss'])"
   ]
  },
  {
   "cell_type": "code",
   "execution_count": 277,
   "metadata": {},
   "outputs": [
    {
     "data": {
      "text/plain": [
       "[<matplotlib.lines.Line2D at 0x20fd28e0b10>]"
      ]
     },
     "execution_count": 277,
     "metadata": {},
     "output_type": "execute_result"
    },
    {
     "data": {
      "image/png": "[encoded data removed]",
      "text/plain": [
       "<Figure size 640x480 with 1 Axes>"
      ]
     },
     "metadata": {},
     "output_type": "display_data"
    }
   ],
   "source": [
    "plt.plot(history.history['accuracy'])\n",
    "plt.plot(history.history['val_accuracy'])"
   ]
  },
  {
   "cell_type": "code",
   "execution_count": null,
   "metadata": {},
   "outputs": [],
   "source": []
  }
 ],
 "metadata": {
  "kernelspec": {
   "display_name": "Python 3",
   "language": "python",
   "name": "python3"
  },
  "language_info": {
   "codemirror_mode": {
    "name": "ipython",
    "version": 3
   },
   "file_extension": ".py",
   "mimetype": "text/x-python",
   "name": "python",
   "nbconvert_exporter": "python",
   "pygments_lexer": "ipython3",
   "version": "3.11.9"
  }
 },
 "nbformat": 4,
 "nbformat_minor": 2
}
